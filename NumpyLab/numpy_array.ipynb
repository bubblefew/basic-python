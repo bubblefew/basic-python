{
 "cells": [
  {
   "cell_type": "markdown",
   "metadata": {},
   "source": [
    "### 1. ตรวจสอบว่ามี libary ของ numpy อยู่ในเครื่องหรือไม่"
   ]
  },
  {
   "cell_type": "code",
   "execution_count": null,
   "metadata": {},
   "outputs": [],
   "source": [
    "!pip show numpy"
   ]
  },
  {
   "cell_type": "markdown",
   "metadata": {},
   "source": [
    "2. ถ้าไม่มีให้ทำการติดตั้ง libary ของ numpy โดยใช้คำสั่ง `!pip install numpy`"
   ]
  },
  {
   "cell_type": "code",
   "execution_count": null,
   "metadata": {},
   "outputs": [],
   "source": [
    "! pip install numpy"
   ]
  },
  {
   "cell_type": "markdown",
   "metadata": {},
   "source": [
    "### 3. สร้าง Array 1 มิติ ที่มีขนาด 10 และเก็บค่า 0 ทุกตำแหน่ง"
   ]
  },
  {
   "cell_type": "code",
   "execution_count": null,
   "metadata": {},
   "outputs": [],
   "source": [
    "import numpy as np\n",
    "\n",
    "row = np.array([1, 2, 3]) # 1 row, 3 columns\n",
    "column = np.array([[1], [2], [3]]) # 3 rows, 1 column\n",
    "\n",
    "print(row)\n",
    "\n",
    "print(column)\n",
    "\n",
    "matrix = np.array([[1, 2], [3, 4], [5, 6]]) # 3 rows, 2 columns\n",
    "\n",
    "print(matrix)"
   ]
  },
  {
   "cell_type": "code",
   "execution_count": null,
   "metadata": {},
   "outputs": [],
   "source": [
    "### random numbers\n",
    "\n",
    "int = np.random.randint(1,5,5)\n",
    "r2 = np.random.random(5)\n",
    "random = np.random.rand(3, 2) # 3 rows, 2 columns\n",
    "\n",
    "print(random)\n",
    "print(int)\n",
    "print(r2)"
   ]
  },
  {
   "cell_type": "code",
   "execution_count": 18,
   "metadata": {},
   "outputs": [
    {
     "name": "stdout",
     "output_type": "stream",
     "text": [
      "[ 1  2  3  4  5  6  7  8  9 10]\n",
      "1\n",
      "[3 4 5 6]\n",
      "[ 3  4  5  6  7  8  9 10]\n",
      "[1 2 3 4 5 6]\n",
      "10\n",
      "8\n",
      "[8 9]\n"
     ]
    }
   ],
   "source": [
    "vrow = np.array([1, 2, 3, 4, 5, 6, 7, 8, 9, 10])\n",
    "\n",
    "print(vrow) # แสดงข้อมูลทั้งหมด\n",
    "print(vrow[0]) # แสดงข้อมูลตำแหน่งที่ 0\n",
    "print(vrow[2:6]) # แสดงข้อมูลตำแหน่งที่ 2 ถึง 6\n",
    "print(vrow[2:]) # แสดงข้อมูลตำแหน่งที่ 2 ถึงสุดท้าย\n",
    "print(vrow[:6]) # แสดงข้อมูลตำแหน่งแรก ถึง 6\n",
    "print(vrow[-1]) # แสดงข้อมูลตำแหน่งสุดท้าย\n",
    "print(vrow[-3]) # แสดงข้อมูลตำแหน่งที่ 3 นับจากท้าย\n",
    "print(vrow[-3:-1])  # แสดงข้อมูลตำแหน่งที่ 3 ถึง 1 นับจากท้าย"
   ]
  },
  {
   "cell_type": "markdown",
   "metadata": {},
   "source": [
    "### การหาค่าทางสถิติใน numpy สามารถทำได้โดยใช้ฟังก์ชันต่างๆ ดังนี้"
   ]
  },
  {
   "cell_type": "code",
   "execution_count": 33,
   "metadata": {},
   "outputs": [
    {
     "name": "stdout",
     "output_type": "stream",
     "text": [
      "[[1 2 3]\n",
      " [4 5 6]\n",
      " [7 8 9]]\n",
      "Max:  9\n",
      "Min:  1\n",
      "Mean: 5.0\n",
      "Median: 5.0\n",
      "Std 2.581988897471611\n",
      "Variance 6.666666666666667\n"
     ]
    }
   ],
   "source": [
    "stat = np.array([[1, 2, 3], [4, 5, 6], [7, 8, 9]])\n",
    "print(stat)\n",
    "\n",
    "print(\"Max: \", np.max(stat))\n",
    "print(\"Min: \", stat.min())\n",
    "print(\"Mean:\", np.mean(stat))\n",
    "print(\"Median:\", np.median(stat))   # หาค่ามัธยฐาน หรือค่ากลาง\n",
    "print(\"Std\", np.std(stat))  # หาค่าเบี่ยงเบนมาตรฐาน\n",
    "print(\"Variance\", np.var(stat))  # หาค่าความแปรปรวน\n",
    "\n"
   ]
  }
 ],
 "metadata": {
  "kernelspec": {
   "display_name": "env",
   "language": "python",
   "name": "python3"
  },
  "language_info": {
   "codemirror_mode": {
    "name": "ipython",
    "version": 3
   },
   "file_extension": ".py",
   "mimetype": "text/x-python",
   "name": "python",
   "nbconvert_exporter": "python",
   "pygments_lexer": "ipython3",
   "version": "3.11.9"
  }
 },
 "nbformat": 4,
 "nbformat_minor": 2
}
